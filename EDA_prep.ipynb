{
 "cells": [
  {
   "cell_type": "code",
   "execution_count": 2,
   "metadata": {},
   "outputs": [],
   "source": [
    "import pandas as pd\n",
    "\n",
    "# Load the cleaned data\n",
    "customer_data = pd.read_csv('cleaned_data.csv')\n",
    "\n",
    "# Prepare data for Power BI visualization\n",
    "churn_summary = customer_data.groupby('churn').agg({\n",
    "    'customer_id': 'count',\n",
    "    'tenure_months': 'mean',\n",
    "    'balance_to_salary_ratio': 'mean',\n",
    "    'scaled_credit_score': 'mean'\n",
    "}).reset_index()\n",
    "\n",
    "# Save the summary table\n",
    "churn_summary.to_csv('churn_summary.csv', index=False)"
   ]
  }
 ],
 "metadata": {
  "kernelspec": {
   "display_name": "Python 3",
   "language": "python",
   "name": "python3"
  },
  "language_info": {
   "codemirror_mode": {
    "name": "ipython",
    "version": 3
   },
   "file_extension": ".py",
   "mimetype": "text/x-python",
   "name": "python",
   "nbconvert_exporter": "python",
   "pygments_lexer": "ipython3",
   "version": "3.10.16"
  }
 },
 "nbformat": 4,
 "nbformat_minor": 2
}
