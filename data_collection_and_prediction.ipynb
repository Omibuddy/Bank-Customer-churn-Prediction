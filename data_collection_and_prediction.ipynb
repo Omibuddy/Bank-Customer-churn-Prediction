{
 "cells": [
  {
   "cell_type": "code",
   "execution_count": 2,
   "metadata": {},
   "outputs": [],
   "source": [
    "import pandas as pd\n",
    "from sklearn.preprocessing import StandardScaler"
   ]
  },
  {
   "cell_type": "code",
   "execution_count": 3,
   "metadata": {},
   "outputs": [],
   "source": [
    "#load data /.\\./.\\./\n",
    "customer_data = pd.read_csv('Bank Customer Churn Prediction.csv')"
   ]
  },
  {
   "cell_type": "code",
   "execution_count": 4,
   "metadata": {},
   "outputs": [
    {
     "name": "stderr",
     "output_type": "stream",
     "text": [
      "/var/folders/3v/th4wmr295kj9nzlnngytb3100000gn/T/ipykernel_12376/2642169677.py:2: FutureWarning: DataFrame.fillna with 'method' is deprecated and will raise in a future version. Use obj.ffill() or obj.bfill() instead.\n",
      "  customer_data.fillna(method='ffill', inplace=True)\n"
     ]
    }
   ],
   "source": [
    "#handle missind values ?.____\n",
    "customer_data.fillna(method='ffill', inplace=True)"
   ]
  },
  {
   "cell_type": "code",
   "execution_count": 6,
   "metadata": {},
   "outputs": [],
   "source": [
    "# identify and manage outliers %/.\n",
    "def remove_outliers(df, column):\n",
    "    Q1 = df[column].quantile(0.25)\n",
    "    Q3 = df[column].quantile(0.75)\n",
    "    IQR = Q3 - Q1\n",
    "    df = df[~((df[column] < (Q1 - 1.5 * IQR)) | (df[column] > (Q3 + 1.5 * IQR)))]\n",
    "    return df\n",
    "\n",
    "customer_data = remove_outliers(customer_data, 'tenure')\n",
    "customer_data = remove_outliers(customer_data, 'balance')\n",
    "customer_data = remove_outliers(customer_data, 'estimated_salary')"
   ]
  },
  {
   "cell_type": "code",
   "execution_count": 7,
   "metadata": {},
   "outputs": [],
   "source": [
    "#feature engineeing\n",
    "customer_data['tenure_months'] = customer_data['tenure'] * 12\n",
    "customer_data['balance_to_salary_ratio'] = customer_data['balance'] / customer_data['estimated_salary']\n",
    "customer_data['scaled_credit_score'] = StandardScaler().fit_transform(customer_data[[\"credit_score\"]])\n"
   ]
  },
  {
   "cell_type": "code",
   "execution_count": null,
   "metadata": {},
   "outputs": [],
   "source": [
    "#save cleaned and engineered data\n",
    "customer_data.to_csv('Cleaned_data.csv', index=False)"
   ]
  }
 ],
 "metadata": {
  "kernelspec": {
   "display_name": "Python 3",
   "language": "python",
   "name": "python3"
  },
  "language_info": {
   "codemirror_mode": {
    "name": "ipython",
    "version": 3
   },
   "file_extension": ".py",
   "mimetype": "text/x-python",
   "name": "python",
   "nbconvert_exporter": "python",
   "pygments_lexer": "ipython3",
   "version": "3.10.16"
  }
 },
 "nbformat": 4,
 "nbformat_minor": 2
}
